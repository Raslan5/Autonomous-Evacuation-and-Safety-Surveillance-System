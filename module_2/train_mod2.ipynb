{
  "nbformat": 4,
  "nbformat_minor": 0,
  "metadata": {
    "colab": {
      "provenance": [],
      "gpuType": "T4"
    },
    "kernelspec": {
      "name": "python3",
      "display_name": "Python 3"
    },
    "language_info": {
      "name": "python"
    },
    "accelerator": "GPU"
  },
  "cells": [
    {
      "cell_type": "code",
      "execution_count": null,
      "metadata": {
        "colab": {
          "base_uri": "https://localhost:8080/"
        },
        "id": "daVoVpffed6R",
        "outputId": "3d943d1d-7ebb-4a09-8631-550e973107e5"
      },
      "outputs": [
        {
          "output_type": "stream",
          "name": "stdout",
          "text": [
            "Collecting ultralytics\n",
            "  Downloading ultralytics-8.3.59-py3-none-any.whl.metadata (35 kB)\n",
            "Requirement already satisfied: numpy>=1.23.0 in /usr/local/lib/python3.10/dist-packages (from ultralytics) (1.26.4)\n",
            "Requirement already satisfied: matplotlib>=3.3.0 in /usr/local/lib/python3.10/dist-packages (from ultralytics) (3.10.0)\n",
            "Requirement already satisfied: opencv-python>=4.6.0 in /usr/local/lib/python3.10/dist-packages (from ultralytics) (4.10.0.84)\n",
            "Requirement already satisfied: pillow>=7.1.2 in /usr/local/lib/python3.10/dist-packages (from ultralytics) (11.1.0)\n",
            "Requirement already satisfied: pyyaml>=5.3.1 in /usr/local/lib/python3.10/dist-packages (from ultralytics) (6.0.2)\n",
            "Requirement already satisfied: requests>=2.23.0 in /usr/local/lib/python3.10/dist-packages (from ultralytics) (2.32.3)\n",
            "Requirement already satisfied: scipy>=1.4.1 in /usr/local/lib/python3.10/dist-packages (from ultralytics) (1.13.1)\n",
            "Requirement already satisfied: torch>=1.8.0 in /usr/local/lib/python3.10/dist-packages (from ultralytics) (2.5.1+cu121)\n",
            "Requirement already satisfied: torchvision>=0.9.0 in /usr/local/lib/python3.10/dist-packages (from ultralytics) (0.20.1+cu121)\n",
            "Requirement already satisfied: tqdm>=4.64.0 in /usr/local/lib/python3.10/dist-packages (from ultralytics) (4.67.1)\n",
            "Requirement already satisfied: psutil in /usr/local/lib/python3.10/dist-packages (from ultralytics) (5.9.5)\n",
            "Requirement already satisfied: py-cpuinfo in /usr/local/lib/python3.10/dist-packages (from ultralytics) (9.0.0)\n",
            "Requirement already satisfied: pandas>=1.1.4 in /usr/local/lib/python3.10/dist-packages (from ultralytics) (2.2.2)\n",
            "Requirement already satisfied: seaborn>=0.11.0 in /usr/local/lib/python3.10/dist-packages (from ultralytics) (0.13.2)\n",
            "Collecting ultralytics-thop>=2.0.0 (from ultralytics)\n",
            "  Downloading ultralytics_thop-2.0.13-py3-none-any.whl.metadata (9.4 kB)\n",
            "Requirement already satisfied: contourpy>=1.0.1 in /usr/local/lib/python3.10/dist-packages (from matplotlib>=3.3.0->ultralytics) (1.3.1)\n",
            "Requirement already satisfied: cycler>=0.10 in /usr/local/lib/python3.10/dist-packages (from matplotlib>=3.3.0->ultralytics) (0.12.1)\n",
            "Requirement already satisfied: fonttools>=4.22.0 in /usr/local/lib/python3.10/dist-packages (from matplotlib>=3.3.0->ultralytics) (4.55.3)\n",
            "Requirement already satisfied: kiwisolver>=1.3.1 in /usr/local/lib/python3.10/dist-packages (from matplotlib>=3.3.0->ultralytics) (1.4.8)\n",
            "Requirement already satisfied: packaging>=20.0 in /usr/local/lib/python3.10/dist-packages (from matplotlib>=3.3.0->ultralytics) (24.2)\n",
            "Requirement already satisfied: pyparsing>=2.3.1 in /usr/local/lib/python3.10/dist-packages (from matplotlib>=3.3.0->ultralytics) (3.2.1)\n",
            "Requirement already satisfied: python-dateutil>=2.7 in /usr/local/lib/python3.10/dist-packages (from matplotlib>=3.3.0->ultralytics) (2.8.2)\n",
            "Requirement already satisfied: pytz>=2020.1 in /usr/local/lib/python3.10/dist-packages (from pandas>=1.1.4->ultralytics) (2024.2)\n",
            "Requirement already satisfied: tzdata>=2022.7 in /usr/local/lib/python3.10/dist-packages (from pandas>=1.1.4->ultralytics) (2024.2)\n",
            "Requirement already satisfied: charset-normalizer<4,>=2 in /usr/local/lib/python3.10/dist-packages (from requests>=2.23.0->ultralytics) (3.4.1)\n",
            "Requirement already satisfied: idna<4,>=2.5 in /usr/local/lib/python3.10/dist-packages (from requests>=2.23.0->ultralytics) (3.10)\n",
            "Requirement already satisfied: urllib3<3,>=1.21.1 in /usr/local/lib/python3.10/dist-packages (from requests>=2.23.0->ultralytics) (2.3.0)\n",
            "Requirement already satisfied: certifi>=2017.4.17 in /usr/local/lib/python3.10/dist-packages (from requests>=2.23.0->ultralytics) (2024.12.14)\n",
            "Requirement already satisfied: filelock in /usr/local/lib/python3.10/dist-packages (from torch>=1.8.0->ultralytics) (3.16.1)\n",
            "Requirement already satisfied: typing-extensions>=4.8.0 in /usr/local/lib/python3.10/dist-packages (from torch>=1.8.0->ultralytics) (4.12.2)\n",
            "Requirement already satisfied: networkx in /usr/local/lib/python3.10/dist-packages (from torch>=1.8.0->ultralytics) (3.4.2)\n",
            "Requirement already satisfied: jinja2 in /usr/local/lib/python3.10/dist-packages (from torch>=1.8.0->ultralytics) (3.1.5)\n",
            "Requirement already satisfied: fsspec in /usr/local/lib/python3.10/dist-packages (from torch>=1.8.0->ultralytics) (2024.10.0)\n",
            "Requirement already satisfied: sympy==1.13.1 in /usr/local/lib/python3.10/dist-packages (from torch>=1.8.0->ultralytics) (1.13.1)\n",
            "Requirement already satisfied: mpmath<1.4,>=1.1.0 in /usr/local/lib/python3.10/dist-packages (from sympy==1.13.1->torch>=1.8.0->ultralytics) (1.3.0)\n",
            "Requirement already satisfied: six>=1.5 in /usr/local/lib/python3.10/dist-packages (from python-dateutil>=2.7->matplotlib>=3.3.0->ultralytics) (1.17.0)\n",
            "Requirement already satisfied: MarkupSafe>=2.0 in /usr/local/lib/python3.10/dist-packages (from jinja2->torch>=1.8.0->ultralytics) (3.0.2)\n",
            "Downloading ultralytics-8.3.59-py3-none-any.whl (906 kB)\n",
            "\u001b[2K   \u001b[90m━━━━━━━━━━━━━━━━━━━━━━━━━━━━━━━━━━━━━━━━\u001b[0m \u001b[32m906.8/906.8 kB\u001b[0m \u001b[31m42.3 MB/s\u001b[0m eta \u001b[36m0:00:00\u001b[0m\n",
            "\u001b[?25hDownloading ultralytics_thop-2.0.13-py3-none-any.whl (26 kB)\n",
            "Installing collected packages: ultralytics-thop, ultralytics\n",
            "Successfully installed ultralytics-8.3.59 ultralytics-thop-2.0.13\n"
          ]
        }
      ],
      "source": [
        "!pip install ultralytics"
      ]
    },
    {
      "cell_type": "code",
      "source": [
        "!pip install roboflow"
      ],
      "metadata": {
        "colab": {
          "base_uri": "https://localhost:8080/"
        },
        "id": "eccyhG20fFi0",
        "outputId": "fcfc1ff4-6a29-4929-af12-323675eba063"
      },
      "execution_count": null,
      "outputs": [
        {
          "output_type": "stream",
          "name": "stdout",
          "text": [
            "Collecting roboflow\n",
            "  Downloading roboflow-1.1.50-py3-none-any.whl.metadata (9.7 kB)\n",
            "Requirement already satisfied: certifi in /usr/local/lib/python3.10/dist-packages (from roboflow) (2024.12.14)\n",
            "Collecting idna==3.7 (from roboflow)\n",
            "  Downloading idna-3.7-py3-none-any.whl.metadata (9.9 kB)\n",
            "Requirement already satisfied: cycler in /usr/local/lib/python3.10/dist-packages (from roboflow) (0.12.1)\n",
            "Requirement already satisfied: kiwisolver>=1.3.1 in /usr/local/lib/python3.10/dist-packages (from roboflow) (1.4.8)\n",
            "Requirement already satisfied: matplotlib in /usr/local/lib/python3.10/dist-packages (from roboflow) (3.10.0)\n",
            "Requirement already satisfied: numpy>=1.18.5 in /usr/local/lib/python3.10/dist-packages (from roboflow) (1.26.4)\n",
            "Requirement already satisfied: opencv-python-headless==4.10.0.84 in /usr/local/lib/python3.10/dist-packages (from roboflow) (4.10.0.84)\n",
            "Requirement already satisfied: Pillow>=7.1.2 in /usr/local/lib/python3.10/dist-packages (from roboflow) (11.1.0)\n",
            "Requirement already satisfied: python-dateutil in /usr/local/lib/python3.10/dist-packages (from roboflow) (2.8.2)\n",
            "Collecting python-dotenv (from roboflow)\n",
            "  Downloading python_dotenv-1.0.1-py3-none-any.whl.metadata (23 kB)\n",
            "Requirement already satisfied: requests in /usr/local/lib/python3.10/dist-packages (from roboflow) (2.32.3)\n",
            "Requirement already satisfied: six in /usr/local/lib/python3.10/dist-packages (from roboflow) (1.17.0)\n",
            "Requirement already satisfied: urllib3>=1.26.6 in /usr/local/lib/python3.10/dist-packages (from roboflow) (2.3.0)\n",
            "Requirement already satisfied: tqdm>=4.41.0 in /usr/local/lib/python3.10/dist-packages (from roboflow) (4.67.1)\n",
            "Requirement already satisfied: PyYAML>=5.3.1 in /usr/local/lib/python3.10/dist-packages (from roboflow) (6.0.2)\n",
            "Requirement already satisfied: requests-toolbelt in /usr/local/lib/python3.10/dist-packages (from roboflow) (1.0.0)\n",
            "Collecting filetype (from roboflow)\n",
            "  Downloading filetype-1.2.0-py2.py3-none-any.whl.metadata (6.5 kB)\n",
            "Requirement already satisfied: contourpy>=1.0.1 in /usr/local/lib/python3.10/dist-packages (from matplotlib->roboflow) (1.3.1)\n",
            "Requirement already satisfied: fonttools>=4.22.0 in /usr/local/lib/python3.10/dist-packages (from matplotlib->roboflow) (4.55.3)\n",
            "Requirement already satisfied: packaging>=20.0 in /usr/local/lib/python3.10/dist-packages (from matplotlib->roboflow) (24.2)\n",
            "Requirement already satisfied: pyparsing>=2.3.1 in /usr/local/lib/python3.10/dist-packages (from matplotlib->roboflow) (3.2.1)\n",
            "Requirement already satisfied: charset-normalizer<4,>=2 in /usr/local/lib/python3.10/dist-packages (from requests->roboflow) (3.4.1)\n",
            "Downloading roboflow-1.1.50-py3-none-any.whl (81 kB)\n",
            "\u001b[2K   \u001b[90m━━━━━━━━━━━━━━━━━━━━━━━━━━━━━━━━━━━━━━━━\u001b[0m \u001b[32m81.5/81.5 kB\u001b[0m \u001b[31m7.7 MB/s\u001b[0m eta \u001b[36m0:00:00\u001b[0m\n",
            "\u001b[?25hDownloading idna-3.7-py3-none-any.whl (66 kB)\n",
            "\u001b[2K   \u001b[90m━━━━━━━━━━━━━━━━━━━━━━━━━━━━━━━━━━━━━━━━\u001b[0m \u001b[32m66.8/66.8 kB\u001b[0m \u001b[31m4.7 MB/s\u001b[0m eta \u001b[36m0:00:00\u001b[0m\n",
            "\u001b[?25hDownloading filetype-1.2.0-py2.py3-none-any.whl (19 kB)\n",
            "Downloading python_dotenv-1.0.1-py3-none-any.whl (19 kB)\n",
            "Installing collected packages: filetype, python-dotenv, idna, roboflow\n",
            "  Attempting uninstall: idna\n",
            "    Found existing installation: idna 3.10\n",
            "    Uninstalling idna-3.10:\n",
            "      Successfully uninstalled idna-3.10\n",
            "Successfully installed filetype-1.2.0 idna-3.7 python-dotenv-1.0.1 roboflow-1.1.50\n"
          ]
        }
      ]
    },
    {
      "cell_type": "code",
      "source": [
        "import os"
      ],
      "metadata": {
        "id": "2FwsKr1NgBL7"
      },
      "execution_count": null,
      "outputs": []
    },
    {
      "cell_type": "code",
      "source": [
        "from roboflow import Roboflow\n",
        "rf = Roboflow(api_key=\"S7xOfkKX4bJs5ET3mN7K\")\n",
        "project = rf.workspace(\"jaishreeram\").project(\"violence_maksad\")\n",
        "version = project.version(2)\n",
        "dataset = version.download(\"yolov11\")\n",
        "\n"
      ],
      "metadata": {
        "colab": {
          "base_uri": "https://localhost:8080/"
        },
        "id": "2CdPkcqGgDwG",
        "outputId": "2a9c3fff-0235-4c03-c2b2-65c16a3af8b3"
      },
      "execution_count": null,
      "outputs": [
        {
          "output_type": "stream",
          "name": "stdout",
          "text": [
            "loading Roboflow workspace...\n",
            "loading Roboflow project...\n"
          ]
        },
        {
          "output_type": "stream",
          "name": "stderr",
          "text": [
            "Downloading Dataset Version Zip in violence_maksad-2 to yolov11:: 100%|██████████| 869143/869143 [00:48<00:00, 17811.83it/s]"
          ]
        },
        {
          "output_type": "stream",
          "name": "stdout",
          "text": [
            "\n"
          ]
        },
        {
          "output_type": "stream",
          "name": "stderr",
          "text": [
            "\n",
            "Extracting Dataset Version Zip to violence_maksad-2 in yolov11:: 100%|██████████| 46937/46937 [00:12<00:00, 3887.14it/s]\n"
          ]
        }
      ]
    },
    {
      "cell_type": "code",
      "source": [
        "from roboflow import Roboflow\n",
        "rf = Roboflow(api_key=\"S7xOfkKX4bJs5ET3mN7K\")\n",
        "project = rf.workspace(\"beneadie\").project(\"intruder-face-covering\")\n",
        "version = project.version(4)\n",
        "dataset = version.download(\"yolov11\")\n"
      ],
      "metadata": {
        "colab": {
          "base_uri": "https://localhost:8080/"
        },
        "id": "0OWoxZPklRUX",
        "outputId": "8d62efef-8b79-4f43-a124-73f50681a30c"
      },
      "execution_count": null,
      "outputs": [
        {
          "output_type": "stream",
          "name": "stdout",
          "text": [
            "loading Roboflow workspace...\n",
            "loading Roboflow project...\n"
          ]
        },
        {
          "output_type": "stream",
          "name": "stderr",
          "text": [
            "Downloading Dataset Version Zip in intruder-face-covering-4 to yolov11:: 100%|██████████| 14500/14500 [00:02<00:00, 6189.40it/s] "
          ]
        },
        {
          "output_type": "stream",
          "name": "stdout",
          "text": [
            "\n"
          ]
        },
        {
          "output_type": "stream",
          "name": "stderr",
          "text": [
            "\n",
            "Extracting Dataset Version Zip to intruder-face-covering-4 in yolov11:: 100%|██████████| 2568/2568 [00:00<00:00, 9382.93it/s]\n"
          ]
        }
      ]
    },
    {
      "cell_type": "code",
      "source": [
        "from roboflow import Roboflow\n",
        "rf = Roboflow(api_key=\"S7xOfkKX4bJs5ET3mN7K\")\n",
        "project = rf.workspace(\"fend-tech\").project(\"bat-detection-1sgn7\")\n",
        "version = project.version(1)\n",
        "dataset = version.download(\"yolov11\")\n"
      ],
      "metadata": {
        "colab": {
          "base_uri": "https://localhost:8080/"
        },
        "id": "IiXwKWhzll3F",
        "outputId": "a186bc43-e84f-41cd-b1ca-9b5249dfe7ee"
      },
      "execution_count": null,
      "outputs": [
        {
          "output_type": "stream",
          "name": "stdout",
          "text": [
            "loading Roboflow workspace...\n",
            "loading Roboflow project...\n"
          ]
        },
        {
          "output_type": "stream",
          "name": "stderr",
          "text": [
            "Downloading Dataset Version Zip in bat-detection-1 to yolov11:: 100%|██████████| 4947/4947 [00:01<00:00, 2951.03it/s]"
          ]
        },
        {
          "output_type": "stream",
          "name": "stdout",
          "text": [
            "\n"
          ]
        },
        {
          "output_type": "stream",
          "name": "stderr",
          "text": [
            "\n",
            "Extracting Dataset Version Zip to bat-detection-1 in yolov11:: 100%|██████████| 304/304 [00:00<00:00, 6087.18it/s]\n"
          ]
        }
      ]
    },
    {
      "cell_type": "code",
      "source": [
        "from roboflow import Roboflow\n",
        "rf = Roboflow(api_key=\"S7xOfkKX4bJs5ET3mN7K\")\n",
        "project = rf.workspace(\"yolo-lggkk\").project(\"dogs-4i7ne\")\n",
        "version = project.version(6)\n",
        "dataset = version.download(\"yolov11\")\n"
      ],
      "metadata": {
        "colab": {
          "base_uri": "https://localhost:8080/"
        },
        "id": "YlR3tvWfl1rR",
        "outputId": "4ef015ba-5b19-4cfc-9d54-e83fe3a34e64"
      },
      "execution_count": null,
      "outputs": [
        {
          "output_type": "stream",
          "name": "stdout",
          "text": [
            "loading Roboflow workspace...\n",
            "loading Roboflow project...\n"
          ]
        },
        {
          "output_type": "stream",
          "name": "stderr",
          "text": [
            "Downloading Dataset Version Zip in Dogs-6 to yolov11:: 100%|██████████| 44997/44997 [00:03<00:00, 11316.43it/s]"
          ]
        },
        {
          "output_type": "stream",
          "name": "stdout",
          "text": [
            "\n"
          ]
        },
        {
          "output_type": "stream",
          "name": "stderr",
          "text": [
            "\n",
            "Extracting Dataset Version Zip to Dogs-6 in yolov11:: 100%|██████████| 1910/1910 [00:00<00:00, 5571.85it/s]\n"
          ]
        }
      ]
    },
    {
      "cell_type": "code",
      "source": [
        "from roboflow import Roboflow\n",
        "rf = Roboflow(api_key=\"S7xOfkKX4bJs5ET3mN7K\")\n",
        "project = rf.workspace(\"sebastianaxede\").project(\"weapons_axede\")\n",
        "version = project.version(3)\n",
        "dataset = version.download(\"yolov11\")\n"
      ],
      "metadata": {
        "colab": {
          "base_uri": "https://localhost:8080/"
        },
        "id": "b_YDCF1rmQz0",
        "outputId": "85bbe840-548d-432d-957e-b9339712e8dc"
      },
      "execution_count": null,
      "outputs": [
        {
          "output_type": "stream",
          "name": "stdout",
          "text": [
            "loading Roboflow workspace...\n",
            "loading Roboflow project...\n"
          ]
        },
        {
          "output_type": "stream",
          "name": "stderr",
          "text": [
            "Downloading Dataset Version Zip in WEAPONS_AXEDE-3 to yolov11:: 100%|██████████| 52488/52488 [00:04<00:00, 12604.59it/s]"
          ]
        },
        {
          "output_type": "stream",
          "name": "stdout",
          "text": [
            "\n"
          ]
        },
        {
          "output_type": "stream",
          "name": "stderr",
          "text": [
            "\n",
            "Extracting Dataset Version Zip to WEAPONS_AXEDE-3 in yolov11:: 100%|██████████| 2768/2768 [00:00<00:00, 7618.31it/s]\n"
          ]
        }
      ]
    },
    {
      "cell_type": "code",
      "source": [
        "import os\n",
        "\n",
        "def modify_labels(label_dir, class_mapping):\n",
        "    \"\"\"\n",
        "    Modify YOLO label files to remap class IDs based on the given mapping.\n",
        "\n",
        "    Args:\n",
        "        label_dir (str): Directory containing the label `.txt` files.\n",
        "        class_mapping (dict): Mapping of old class IDs to new class IDs.\n",
        "                              Example: {0: 1, 1: 2}\n",
        "    \"\"\"\n",
        "    # Loop through all label files in the directory\n",
        "    for file_name in os.listdir(label_dir):\n",
        "        if file_name.endswith('.txt'):  # Process only .txt files\n",
        "            file_path = os.path.join(label_dir, file_name)\n",
        "\n",
        "            # Read the content of the label file\n",
        "            with open(file_path, 'r') as file:\n",
        "                lines = file.readlines()\n",
        "\n",
        "            # Process each line in the label file\n",
        "            updated_lines = []\n",
        "            for line in lines:\n",
        "                parts = line.strip().split()\n",
        "                if len(parts) > 0:  # Ensure the line is not empty\n",
        "                    class_id = int(parts[0])  # Get the class ID\n",
        "                    if class_id in class_mapping:  # Check if it needs to be remapped\n",
        "                        parts[0] = str(class_mapping[class_id])  # Update class ID\n",
        "                updated_lines.append(' '.join(parts))\n",
        "\n",
        "            # Write the updated content back to the file\n",
        "            with open(file_path, 'w') as file:\n",
        "                file.write('\\n'.join(updated_lines))\n",
        "\n",
        "    print(f\"Processed all label files in: {label_dir}\")\n",
        "\n",
        "\n",
        "# baton -> 0\n",
        "\n",
        "# intruder face:\n",
        "# Hood hood_detection - v1 2024-06-05 2-21am 0 -> 1\n",
        "# Masked newmask300 - v1 2022-11-18 10-56am 1 -> 2\n",
        "\n",
        "# violence masked\n",
        "# violence 0 -> 3\n",
        "\n",
        "# weapons\n",
        "# Weapon -> 4\n",
        "# Transform all types to numbres\n",
        "# Armas 0 -> 4\n",
        "# Cuchillo 1 -> 4\n",
        "# Palanca 2 -> 4\n",
        "# Pistola 3 -> 4\n",
        "# Posible arma 4 -> 4\n",
        "# Rifle 5 -> 4\n",
        "\n",
        "# dog\n",
        "# dogs 0 -> 5"
      ],
      "metadata": {
        "id": "UZAcGVFu_xe3"
      },
      "execution_count": null,
      "outputs": []
    },
    {
      "cell_type": "code",
      "source": [
        "    # Modify Dogs\n",
        "    label_directory1 = r\"/content/Dogs-6/test/labels\"\n",
        "    label_directory2 = r\"/content/Dogs-6/train/labels\"\n",
        "    label_directory3 = r\"/content/Dogs-6/valid/labels\"\n",
        "    class_id_mapping = {\n",
        "        0: 5\n",
        "    }\n",
        "\n",
        "    # Modify the label files\n",
        "    modify_labels(label_directory1, class_id_mapping)\n",
        "    modify_labels(label_directory2, class_id_mapping)\n",
        "    modify_labels(label_directory3, class_id_mapping)"
      ],
      "metadata": {
        "colab": {
          "base_uri": "https://localhost:8080/"
        },
        "id": "YQhG0zSr_3cC",
        "outputId": "05e568fb-ac5a-4cd4-c77b-83e8d6fcbe41"
      },
      "execution_count": null,
      "outputs": [
        {
          "output_type": "stream",
          "name": "stdout",
          "text": [
            "Processed all label files in: /content/Dogs-6/test/labels\n",
            "Processed all label files in: /content/Dogs-6/train/labels\n",
            "Processed all label files in: /content/Dogs-6/valid/labels\n"
          ]
        }
      ]
    },
    {
      "cell_type": "code",
      "source": [
        "    # Modify Baton Detection\n",
        "    label_directory1 = r\"/content/bat-detection-1/test/labels\"\n",
        "    label_directory2 = r\"/content/bat-detection-1/train/labels\"\n",
        "    label_directory3 = r\"/content/bat-detection-1/valid/labels\"\n",
        "    class_id_mapping = {\n",
        "        0: 0\n",
        "    }\n",
        "\n",
        "    # Modify the label files\n",
        "    modify_labels(label_directory1, class_id_mapping)\n",
        "    modify_labels(label_directory2, class_id_mapping)\n",
        "    modify_labels(label_directory3, class_id_mapping)"
      ],
      "metadata": {
        "colab": {
          "base_uri": "https://localhost:8080/"
        },
        "id": "jbtWPNzWAtXV",
        "outputId": "00db2ce3-70f6-4686-af75-b82370ec6413"
      },
      "execution_count": null,
      "outputs": [
        {
          "output_type": "stream",
          "name": "stdout",
          "text": [
            "Processed all label files in: /content/bat-detection-1/test/labels\n",
            "Processed all label files in: /content/bat-detection-1/train/labels\n",
            "Processed all label files in: /content/bat-detection-1/valid/labels\n"
          ]
        }
      ]
    },
    {
      "cell_type": "code",
      "source": [
        "    # Modify Intruder Face Detection\n",
        "    label_directory1 = r\"/content/intruder-face-covering-4/test/labels\"\n",
        "    label_directory2 = r\"/content/intruder-face-covering-4/train/labels\"\n",
        "    label_directory3 = r\"/content/intruder-face-covering-4/valid/labels\"\n",
        "    class_id_mapping = {\n",
        "        0: 1,\n",
        "        1: 2\n",
        "    }\n",
        "\n",
        "    # Modify the label files\n",
        "    modify_labels(label_directory1, class_id_mapping)\n",
        "    modify_labels(label_directory2, class_id_mapping)\n",
        "    modify_labels(label_directory3, class_id_mapping)"
      ],
      "metadata": {
        "colab": {
          "base_uri": "https://localhost:8080/"
        },
        "id": "hT0BFZ-BBE8B",
        "outputId": "d6e37c0d-9a71-4c2d-bea8-36c4a900178a"
      },
      "execution_count": null,
      "outputs": [
        {
          "output_type": "stream",
          "name": "stdout",
          "text": [
            "Processed all label files in: /content/intruder-face-covering-4/test/labels\n",
            "Processed all label files in: /content/intruder-face-covering-4/train/labels\n",
            "Processed all label files in: /content/intruder-face-covering-4/valid/labels\n"
          ]
        }
      ]
    },
    {
      "cell_type": "code",
      "source": [
        "    # Modify Intruder Face Detection\n",
        "\n",
        "    label_directory1 = r\"/content/violence_maksad-2/train/labels\"\n",
        "    label_directory2 = r\"/content/violence_maksad-2/valid/labels\"\n",
        "    class_id_mapping = {\n",
        "        0: 3\n",
        "    }\n",
        "\n",
        "    # Modify the label files\n",
        "    modify_labels(label_directory1, class_id_mapping)\n",
        "    modify_labels(label_directory2, class_id_mapping)"
      ],
      "metadata": {
        "colab": {
          "base_uri": "https://localhost:8080/"
        },
        "id": "-rvDvkZ6Ca13",
        "outputId": "3a666ab9-73d0-4a9d-8a1c-6eb92a31f89e"
      },
      "execution_count": null,
      "outputs": [
        {
          "output_type": "stream",
          "name": "stdout",
          "text": [
            "Processed all label files in: /content/violence_maksad-2/train/labels\n",
            "Processed all label files in: /content/violence_maksad-2/valid/labels\n"
          ]
        }
      ]
    },
    {
      "cell_type": "code",
      "source": [
        "    # Modify Weapons Detection\n",
        "    label_directory1 = r\"/content/WEAPONS_AXEDE-3/test/labels\"\n",
        "    label_directory2 = r\"/content/WEAPONS_AXEDE-3/train/labels\"\n",
        "    label_directory3 = r\"/content/WEAPONS_AXEDE-3/train/labels\"\n",
        "    class_id_mapping = {\n",
        "        0: 4,\n",
        "        1: 4,\n",
        "        2: 4,\n",
        "        3: 4,\n",
        "        4: 4,\n",
        "        5: 4\n",
        "    }\n",
        "\n",
        "    # Modify the label files\n",
        "    modify_labels(label_directory1, class_id_mapping)\n",
        "    modify_labels(label_directory2, class_id_mapping)\n",
        "    modify_labels(label_directory3, class_id_mapping)"
      ],
      "metadata": {
        "colab": {
          "base_uri": "https://localhost:8080/"
        },
        "id": "Kn_8RB4JDbJ3",
        "outputId": "31e56df0-9631-40d6-8aa6-3578371beb83"
      },
      "execution_count": null,
      "outputs": [
        {
          "output_type": "stream",
          "name": "stdout",
          "text": [
            "Processed all label files in: /content/WEAPONS_AXEDE-3/test/labels\n",
            "Processed all label files in: /content/WEAPONS_AXEDE-3/train/labels\n",
            "Processed all label files in: /content/WEAPONS_AXEDE-3/train/labels\n"
          ]
        }
      ]
    },
    {
      "cell_type": "code",
      "source": [
        "# Unify all datasets into one big dataset folder\n",
        "import os\n",
        "\n",
        "# Define the base folder and subfolder structure\n",
        "base_folder = \"data_merged\"\n",
        "subfolders = [\"train\", \"test\", \"valid\"]\n",
        "nested_folders = [\"images\", \"labels\"]\n",
        "\n",
        "# Create the folder structure\n",
        "for subfolder in subfolders:\n",
        "    for nested in nested_folders:\n",
        "        folder_path = os.path.join(base_folder, subfolder, nested)\n",
        "        os.makedirs(folder_path, exist_ok=True)\n",
        "\n",
        "print(f\"Folder structure created under '{base_folder}'\")\n",
        "\n"
      ],
      "metadata": {
        "id": "c8GCdNgoECQg",
        "colab": {
          "base_uri": "https://localhost:8080/"
        },
        "outputId": "4f8da704-650e-4037-b443-6c5ad11e5fd5"
      },
      "execution_count": null,
      "outputs": [
        {
          "output_type": "stream",
          "name": "stdout",
          "text": [
            "Folder structure created under 'data_merged'\n"
          ]
        }
      ]
    },
    {
      "cell_type": "code",
      "source": [
        "import yaml\n",
        "\n",
        "# Data to write into the YAML file\n",
        "data = {\n",
        "    \"train\": \"../train/images\",\n",
        "    \"val\": \"../valid/images\",\n",
        "    \"test\": \"../test/images\",\n",
        "    \"nc\": 6,\n",
        "    \"names\": [\"Baton\", \"Hood\", \"Mask\", \"Violence\", \"Weapon\", \"Dog\"]\n",
        "}\n",
        "\n",
        "# Custom Dumper to force the `names` field into single-line format\n",
        "class CustomDumper(yaml.Dumper):\n",
        "    def increase_indent(self, flow=False, indentless=False):\n",
        "        return super(CustomDumper, self).increase_indent(flow, False)\n",
        "\n",
        "# Specify the output file name\n",
        "output_file = r\"/content/data_merged/data.yaml\"\n",
        "\n",
        "# Write the data to a YAML file\n",
        "with open(output_file, \"w\") as file:\n",
        "    yaml.dump(data, file, Dumper=CustomDumper, default_flow_style=None, sort_keys=False)\n",
        "\n",
        "print(f\"YAML file '{output_file}' has been created.\")\n"
      ],
      "metadata": {
        "colab": {
          "base_uri": "https://localhost:8080/"
        },
        "id": "fEQmU-Nn4OuT",
        "outputId": "8421c8f4-bf7a-415d-a2cb-98eacda72f63"
      },
      "execution_count": null,
      "outputs": [
        {
          "output_type": "stream",
          "name": "stdout",
          "text": [
            "YAML file '/content/data_merged/data.yaml' has been created.\n"
          ]
        }
      ]
    },
    {
      "cell_type": "code",
      "source": [
        "import os\n",
        "import shutil\n",
        "\n",
        "# Define the source datasets\n",
        "datasets = [\n",
        "    \"Dogs-6\",\n",
        "    \"WEAPONS_AXEDE-3\",\n",
        "    \"bat-detection-1\",\n",
        "    \"violence_maksad-2\",\n",
        "    \"intruder-face-covering-4\"\n",
        "]\n",
        "\n",
        "# Define the destination directory\n",
        "base_dest = r\"/content/data_merged\"\n",
        "train_dest = os.path.join(base_dest, \"train\")\n",
        "valid_dest = os.path.join(base_dest, \"valid\")\n",
        "test_dest = os.path.join(base_dest, \"test\")\n",
        "\n",
        "# Create destination directories\n",
        "for split in [\"train\", \"valid\", \"test\"]:\n",
        "    os.makedirs(os.path.join(base_dest, split, \"images\"), exist_ok=True)\n",
        "    os.makedirs(os.path.join(base_dest, split, \"labels\"), exist_ok=True)\n",
        "\n",
        "# Merge the datasets\n",
        "for dataset in datasets:\n",
        "    for split in [\"train\", \"valid\", \"test\"]:\n",
        "        source_images = fr\"/content/{dataset}/{split}/images\"\n",
        "        source_labels = fr\"/content/{dataset}/{split}/labels\"\n",
        "\n",
        "        dest_images = os.path.join(base_dest, split, \"images\")\n",
        "        dest_labels = os.path.join(base_dest, split, \"labels\")\n",
        "\n",
        "        # Check if the source directories exist\n",
        "        if os.path.exists(source_images):\n",
        "            print(f\"Copying images from {source_images} to {dest_images}...\")\n",
        "            for file_name in os.listdir(source_images):\n",
        "                shutil.copy(os.path.join(source_images, file_name), dest_images)\n",
        "        else:\n",
        "            print(f\"Source images folder does not exist: {source_images}\")\n",
        "\n",
        "        if os.path.exists(source_labels):\n",
        "            print(f\"Copying labels from {source_labels} to {dest_labels}...\")\n",
        "            for file_name in os.listdir(source_labels):\n",
        "                shutil.copy(os.path.join(source_labels, file_name), dest_labels)\n",
        "        else:\n",
        "            print(f\"Source labels folder does not exist: {source_labels}\")\n",
        "\n",
        "print(f\"Datasets merged into {base_dest}.\")\n"
      ],
      "metadata": {
        "id": "BUX5ttf04dKx",
        "colab": {
          "base_uri": "https://localhost:8080/"
        },
        "outputId": "856613bb-ea6c-44c4-d6be-7f81c9004a46"
      },
      "execution_count": 20,
      "outputs": [
        {
          "output_type": "stream",
          "name": "stdout",
          "text": [
            "Copying images from /content/Dogs-6/train/images to /content/data_merged/train/images...\n",
            "Copying labels from /content/Dogs-6/train/labels to /content/data_merged/train/labels...\n",
            "Copying images from /content/Dogs-6/valid/images to /content/data_merged/valid/images...\n",
            "Copying labels from /content/Dogs-6/valid/labels to /content/data_merged/valid/labels...\n",
            "Copying images from /content/Dogs-6/test/images to /content/data_merged/test/images...\n",
            "Copying labels from /content/Dogs-6/test/labels to /content/data_merged/test/labels...\n",
            "Copying images from /content/WEAPONS_AXEDE-3/train/images to /content/data_merged/train/images...\n",
            "Copying labels from /content/WEAPONS_AXEDE-3/train/labels to /content/data_merged/train/labels...\n",
            "Copying images from /content/WEAPONS_AXEDE-3/valid/images to /content/data_merged/valid/images...\n",
            "Copying labels from /content/WEAPONS_AXEDE-3/valid/labels to /content/data_merged/valid/labels...\n",
            "Copying images from /content/WEAPONS_AXEDE-3/test/images to /content/data_merged/test/images...\n",
            "Copying labels from /content/WEAPONS_AXEDE-3/test/labels to /content/data_merged/test/labels...\n",
            "Copying images from /content/bat-detection-1/train/images to /content/data_merged/train/images...\n",
            "Copying labels from /content/bat-detection-1/train/labels to /content/data_merged/train/labels...\n",
            "Copying images from /content/bat-detection-1/valid/images to /content/data_merged/valid/images...\n",
            "Copying labels from /content/bat-detection-1/valid/labels to /content/data_merged/valid/labels...\n",
            "Copying images from /content/bat-detection-1/test/images to /content/data_merged/test/images...\n",
            "Copying labels from /content/bat-detection-1/test/labels to /content/data_merged/test/labels...\n",
            "Copying images from /content/violence_maksad-2/train/images to /content/data_merged/train/images...\n",
            "Copying labels from /content/violence_maksad-2/train/labels to /content/data_merged/train/labels...\n",
            "Copying images from /content/violence_maksad-2/valid/images to /content/data_merged/valid/images...\n",
            "Copying labels from /content/violence_maksad-2/valid/labels to /content/data_merged/valid/labels...\n",
            "Source images folder does not exist: /content/violence_maksad-2/test/images\n",
            "Source labels folder does not exist: /content/violence_maksad-2/test/labels\n",
            "Copying images from /content/intruder-face-covering-4/train/images to /content/data_merged/train/images...\n",
            "Copying labels from /content/intruder-face-covering-4/train/labels to /content/data_merged/train/labels...\n",
            "Copying images from /content/intruder-face-covering-4/valid/images to /content/data_merged/valid/images...\n",
            "Copying labels from /content/intruder-face-covering-4/valid/labels to /content/data_merged/valid/labels...\n",
            "Copying images from /content/intruder-face-covering-4/test/images to /content/data_merged/test/images...\n",
            "Copying labels from /content/intruder-face-covering-4/test/labels to /content/data_merged/test/labels...\n",
            "Datasets merged into /content/data_merged.\n"
          ]
        }
      ]
    },
    {
      "cell_type": "code",
      "source": [
        "!yolo detect train data=/content/data_merged/data.yaml model=yolo11s.pt epochs=100 imgsz=640"
      ],
      "metadata": {
        "colab": {
          "base_uri": "https://localhost:8080/"
        },
        "id": "MHh3OjXr6YQM",
        "outputId": "9159dab8-e308-4216-a0ad-00c21e73dc4d"
      },
      "execution_count": null,
      "outputs": [
        {
          "output_type": "stream",
          "name": "stdout",
          "text": [
            "Creating new Ultralytics Settings v0.0.6 file ✅ \n",
            "View Ultralytics Settings with 'yolo settings' or at '/root/.config/Ultralytics/settings.json'\n",
            "Update Settings with 'yolo settings key=value', i.e. 'yolo settings runs_dir=path/to/dir'. For help see https://docs.ultralytics.com/quickstart/#ultralytics-settings.\n",
            "Downloading https://github.com/ultralytics/assets/releases/download/v8.3.0/yolo11s.pt to 'yolo11s.pt'...\n",
            "100% 18.4M/18.4M [00:00<00:00, 414MB/s]\n",
            "Ultralytics 8.3.59 🚀 Python-3.10.12 torch-2.5.1+cu121 CUDA:0 (Tesla T4, 15102MiB)\n",
            "\u001b[34m\u001b[1mengine/trainer: \u001b[0mtask=detect, mode=train, model=yolo11s.pt, data=/content/data_merged/data.yaml, epochs=100, time=None, patience=100, batch=16, imgsz=640, save=True, save_period=-1, cache=False, device=None, workers=8, project=None, name=train, exist_ok=False, pretrained=True, optimizer=auto, verbose=True, seed=0, deterministic=True, single_cls=False, rect=False, cos_lr=False, close_mosaic=10, resume=False, amp=True, fraction=1.0, profile=False, freeze=None, multi_scale=False, overlap_mask=True, mask_ratio=4, dropout=0.0, val=True, split=val, save_json=False, save_hybrid=False, conf=None, iou=0.7, max_det=300, half=False, dnn=False, plots=True, source=None, vid_stride=1, stream_buffer=False, visualize=False, augment=False, agnostic_nms=False, classes=None, retina_masks=False, embed=None, show=False, save_frames=False, save_txt=False, save_conf=False, save_crop=False, show_labels=True, show_conf=True, show_boxes=True, line_width=None, format=torchscript, keras=False, optimize=False, int8=False, dynamic=False, simplify=True, opset=None, workspace=None, nms=False, lr0=0.01, lrf=0.01, momentum=0.937, weight_decay=0.0005, warmup_epochs=3.0, warmup_momentum=0.8, warmup_bias_lr=0.1, box=7.5, cls=0.5, dfl=1.5, pose=12.0, kobj=1.0, nbs=64, hsv_h=0.015, hsv_s=0.7, hsv_v=0.4, degrees=0.0, translate=0.1, scale=0.5, shear=0.0, perspective=0.0, flipud=0.0, fliplr=0.5, bgr=0.0, mosaic=1.0, mixup=0.0, copy_paste=0.0, copy_paste_mode=flip, auto_augment=randaugment, erasing=0.4, crop_fraction=1.0, cfg=None, tracker=botsort.yaml, save_dir=runs/detect/train\n",
            "Downloading https://ultralytics.com/assets/Arial.ttf to '/root/.config/Ultralytics/Arial.ttf'...\n",
            "100% 755k/755k [00:00<00:00, 129MB/s]\n",
            "Overriding model.yaml nc=80 with nc=6\n",
            "\n",
            "                   from  n    params  module                                       arguments                     \n",
            "  0                  -1  1       928  ultralytics.nn.modules.conv.Conv             [3, 32, 3, 2]                 \n",
            "  1                  -1  1     18560  ultralytics.nn.modules.conv.Conv             [32, 64, 3, 2]                \n",
            "  2                  -1  1     26080  ultralytics.nn.modules.block.C3k2            [64, 128, 1, False, 0.25]     \n",
            "  3                  -1  1    147712  ultralytics.nn.modules.conv.Conv             [128, 128, 3, 2]              \n",
            "  4                  -1  1    103360  ultralytics.nn.modules.block.C3k2            [128, 256, 1, False, 0.25]    \n",
            "  5                  -1  1    590336  ultralytics.nn.modules.conv.Conv             [256, 256, 3, 2]              \n",
            "  6                  -1  1    346112  ultralytics.nn.modules.block.C3k2            [256, 256, 1, True]           \n",
            "  7                  -1  1   1180672  ultralytics.nn.modules.conv.Conv             [256, 512, 3, 2]              \n",
            "  8                  -1  1   1380352  ultralytics.nn.modules.block.C3k2            [512, 512, 1, True]           \n",
            "  9                  -1  1    656896  ultralytics.nn.modules.block.SPPF            [512, 512, 5]                 \n",
            " 10                  -1  1    990976  ultralytics.nn.modules.block.C2PSA           [512, 512, 1]                 \n",
            " 11                  -1  1         0  torch.nn.modules.upsampling.Upsample         [None, 2, 'nearest']          \n",
            " 12             [-1, 6]  1         0  ultralytics.nn.modules.conv.Concat           [1]                           \n",
            " 13                  -1  1    443776  ultralytics.nn.modules.block.C3k2            [768, 256, 1, False]          \n",
            " 14                  -1  1         0  torch.nn.modules.upsampling.Upsample         [None, 2, 'nearest']          \n",
            " 15             [-1, 4]  1         0  ultralytics.nn.modules.conv.Concat           [1]                           \n",
            " 16                  -1  1    127680  ultralytics.nn.modules.block.C3k2            [512, 128, 1, False]          \n",
            " 17                  -1  1    147712  ultralytics.nn.modules.conv.Conv             [128, 128, 3, 2]              \n",
            " 18            [-1, 13]  1         0  ultralytics.nn.modules.conv.Concat           [1]                           \n",
            " 19                  -1  1    345472  ultralytics.nn.modules.block.C3k2            [384, 256, 1, False]          \n",
            " 20                  -1  1    590336  ultralytics.nn.modules.conv.Conv             [256, 256, 3, 2]              \n",
            " 21            [-1, 10]  1         0  ultralytics.nn.modules.conv.Concat           [1]                           \n",
            " 22                  -1  1   1511424  ultralytics.nn.modules.block.C3k2            [768, 512, 1, True]           \n",
            " 23        [16, 19, 22]  1    821730  ultralytics.nn.modules.head.Detect           [6, [128, 256, 512]]          \n",
            "YOLO11s summary: 319 layers, 9,430,114 parameters, 9,430,098 gradients, 21.6 GFLOPs\n",
            "\n",
            "Transferred 493/499 items from pretrained weights\n",
            "\u001b[34m\u001b[1mTensorBoard: \u001b[0mStart with 'tensorboard --logdir runs/detect/train', view at http://localhost:6006/\n",
            "Freezing layer 'model.23.dfl.conv.weight'\n",
            "\u001b[34m\u001b[1mAMP: \u001b[0mrunning Automatic Mixed Precision (AMP) checks...\n",
            "Downloading https://github.com/ultralytics/assets/releases/download/v8.3.0/yolo11n.pt to 'yolo11n.pt'...\n",
            "100% 5.35M/5.35M [00:00<00:00, 401MB/s]\n",
            "\u001b[34m\u001b[1mAMP: \u001b[0mchecks passed ✅\n",
            "\u001b[34m\u001b[1mtrain: \u001b[0mScanning /content/data_merged/train/labels... 25739 images, 660 backgrounds, 0 corrupt: 100% 25739/25739 [00:12<00:00, 2119.26it/s]\n",
            "\u001b[34m\u001b[1mtrain: \u001b[0mNew cache created: /content/data_merged/train/labels.cache\n",
            "WARNING ⚠️ Box and segment counts should be equal, but got len(segments) = 2321, len(boxes) = 25544. To resolve this only boxes will be used and all segments will be removed. To avoid this please supply either a detect or segment dataset, not a detect-segment mixed dataset.\n",
            "/usr/local/lib/python3.10/dist-packages/albumentations/__init__.py:24: UserWarning: A new version of Albumentations is available: 2.0.0 (you have 1.4.20). Upgrade using: pip install -U albumentations. To disable automatic update checks, set the environment variable NO_ALBUMENTATIONS_UPDATE to 1.\n",
            "  check_for_updates()\n",
            "\u001b[34m\u001b[1malbumentations: \u001b[0mBlur(p=0.01, blur_limit=(3, 7)), MedianBlur(p=0.01, blur_limit=(3, 7)), ToGray(p=0.01, num_output_channels=3, method='weighted_average'), CLAHE(p=0.01, clip_limit=(1.0, 4.0), tile_grid_size=(8, 8))\n",
            "\u001b[34m\u001b[1mval: \u001b[0mScanning /content/data_merged/valid/labels... 1285 images, 31 backgrounds, 0 corrupt: 100% 1285/1285 [00:01<00:00, 936.61it/s]\n",
            "\u001b[34m\u001b[1mval: \u001b[0mNew cache created: /content/data_merged/valid/labels.cache\n",
            "WARNING ⚠️ Box and segment counts should be equal, but got len(segments) = 330, len(boxes) = 1343. To resolve this only boxes will be used and all segments will be removed. To avoid this please supply either a detect or segment dataset, not a detect-segment mixed dataset.\n",
            "Plotting labels to runs/detect/train/labels.jpg... \n",
            "\u001b[34m\u001b[1moptimizer:\u001b[0m 'optimizer=auto' found, ignoring 'lr0=0.01' and 'momentum=0.937' and determining best 'optimizer', 'lr0' and 'momentum' automatically... \n",
            "\u001b[34m\u001b[1moptimizer:\u001b[0m SGD(lr=0.01, momentum=0.9) with parameter groups 81 weight(decay=0.0), 88 weight(decay=0.0005), 87 bias(decay=0.0)\n",
            "\u001b[34m\u001b[1mTensorBoard: \u001b[0mmodel graph visualization added ✅\n",
            "Image sizes 640 train, 640 val\n",
            "Using 2 dataloader workers\n",
            "Logging results to \u001b[1mruns/detect/train\u001b[0m\n",
            "Starting training for 100 epochs...\n",
            "\n",
            "      Epoch    GPU_mem   box_loss   cls_loss   dfl_loss  Instances       Size\n",
            "      1/100      4.35G      1.275       1.64      1.632         24        640: 100% 1609/1609 [09:33<00:00,  2.81it/s]\n",
            "                 Class     Images  Instances      Box(P          R      mAP50  mAP50-95): 100% 41/41 [00:15<00:00,  2.70it/s]\n",
            "                   all       1285       1343      0.512      0.356      0.388      0.224\n",
            "\n",
            "      Epoch    GPU_mem   box_loss   cls_loss   dfl_loss  Instances       Size\n",
            "      2/100      4.28G      1.253      1.169      1.603         25        640: 100% 1609/1609 [09:20<00:00,  2.87it/s]\n",
            "                 Class     Images  Instances      Box(P          R      mAP50  mAP50-95): 100% 41/41 [00:13<00:00,  2.96it/s]\n",
            "                   all       1285       1343      0.567      0.263      0.325      0.178\n",
            "\n",
            "      Epoch    GPU_mem   box_loss   cls_loss   dfl_loss  Instances       Size\n",
            "      3/100       4.3G      1.348      1.334      1.685         28        640: 100% 1609/1609 [09:13<00:00,  2.91it/s]\n",
            "                 Class     Images  Instances      Box(P          R      mAP50  mAP50-95): 100% 41/41 [00:13<00:00,  2.97it/s]\n",
            "                   all       1285       1343      0.498      0.271      0.271      0.138\n",
            "\n",
            "      Epoch    GPU_mem   box_loss   cls_loss   dfl_loss  Instances       Size\n",
            "      4/100       4.3G      1.382      1.397      1.711         27        640: 100% 1609/1609 [09:09<00:00,  2.93it/s]\n",
            "                 Class     Images  Instances      Box(P          R      mAP50  mAP50-95): 100% 41/41 [00:13<00:00,  3.11it/s]\n",
            "                   all       1285       1343      0.595      0.318      0.358      0.208\n",
            "\n",
            "      Epoch    GPU_mem   box_loss   cls_loss   dfl_loss  Instances       Size\n",
            "      5/100       4.3G      1.302      1.249      1.645         22        640: 100% 1609/1609 [09:11<00:00,  2.92it/s]\n",
            "                 Class     Images  Instances      Box(P          R      mAP50  mAP50-95): 100% 41/41 [00:13<00:00,  3.00it/s]\n",
            "                   all       1285       1343      0.617       0.33      0.383      0.224\n",
            "\n",
            "      Epoch    GPU_mem   box_loss   cls_loss   dfl_loss  Instances       Size\n",
            "      6/100      4.27G      1.251      1.166      1.596         23        640: 100% 1609/1609 [09:14<00:00,  2.90it/s]\n",
            "                 Class     Images  Instances      Box(P          R      mAP50  mAP50-95): 100% 41/41 [00:14<00:00,  2.93it/s]\n",
            "                   all       1285       1343      0.485      0.345      0.395      0.233\n",
            "\n",
            "      Epoch    GPU_mem   box_loss   cls_loss   dfl_loss  Instances       Size\n",
            "      7/100       4.3G      1.215      1.087      1.564         25        640: 100% 1609/1609 [09:14<00:00,  2.90it/s]\n",
            "                 Class     Images  Instances      Box(P          R      mAP50  mAP50-95): 100% 41/41 [00:12<00:00,  3.19it/s]\n",
            "                   all       1285       1343      0.621      0.353      0.414       0.26\n",
            "\n",
            "      Epoch    GPU_mem   box_loss   cls_loss   dfl_loss  Instances       Size\n",
            "      8/100      4.29G      1.182      1.037      1.533         30        640: 100% 1609/1609 [09:08<00:00,  2.93it/s]\n",
            "                 Class     Images  Instances      Box(P          R      mAP50  mAP50-95): 100% 41/41 [00:13<00:00,  2.99it/s]\n",
            "                   all       1285       1343      0.674      0.359      0.436      0.272\n",
            "\n",
            "      Epoch    GPU_mem   box_loss   cls_loss   dfl_loss  Instances       Size\n",
            "      9/100      4.29G      1.151     0.9969      1.511         26        640: 100% 1609/1609 [09:08<00:00,  2.94it/s]\n",
            "                 Class     Images  Instances      Box(P          R      mAP50  mAP50-95): 100% 41/41 [00:13<00:00,  3.06it/s]\n",
            "                   all       1285       1343      0.718      0.392      0.443      0.284\n",
            "\n",
            "      Epoch    GPU_mem   box_loss   cls_loss   dfl_loss  Instances       Size\n",
            "     10/100      4.28G      1.133     0.9641      1.493         19        640: 100% 1609/1609 [09:07<00:00,  2.94it/s]\n",
            "                 Class     Images  Instances      Box(P          R      mAP50  mAP50-95): 100% 41/41 [00:14<00:00,  2.91it/s]\n",
            "                   all       1285       1343      0.705      0.364      0.443      0.284\n",
            "\n",
            "      Epoch    GPU_mem   box_loss   cls_loss   dfl_loss  Instances       Size\n",
            "     11/100      4.29G      1.118     0.9399      1.479         26        640: 100% 1609/1609 [09:09<00:00,  2.93it/s]\n",
            "                 Class     Images  Instances      Box(P          R      mAP50  mAP50-95): 100% 41/41 [00:13<00:00,  3.05it/s]\n",
            "                   all       1285       1343      0.738      0.405      0.465      0.302\n",
            "\n",
            "      Epoch    GPU_mem   box_loss   cls_loss   dfl_loss  Instances       Size\n",
            "     12/100      4.29G      1.103     0.9075      1.467         26        640: 100% 1609/1609 [09:08<00:00,  2.93it/s]\n",
            "                 Class     Images  Instances      Box(P          R      mAP50  mAP50-95): 100% 41/41 [00:12<00:00,  3.16it/s]\n",
            "                   all       1285       1343      0.738      0.387      0.473      0.303\n",
            "\n",
            "      Epoch    GPU_mem   box_loss   cls_loss   dfl_loss  Instances       Size\n",
            "     13/100      4.29G      1.084       0.88      1.452         25        640: 100% 1609/1609 [09:07<00:00,  2.94it/s]\n",
            "                 Class     Images  Instances      Box(P          R      mAP50  mAP50-95): 100% 41/41 [00:13<00:00,  3.02it/s]\n",
            "                   all       1285       1343      0.731      0.394      0.463      0.315\n",
            "\n",
            "      Epoch    GPU_mem   box_loss   cls_loss   dfl_loss  Instances       Size\n",
            "     14/100      4.28G      1.071     0.8679      1.441         30        640: 100% 1609/1609 [09:07<00:00,  2.94it/s]\n",
            "                 Class     Images  Instances      Box(P          R      mAP50  mAP50-95): 100% 41/41 [00:13<00:00,  3.08it/s]\n",
            "                   all       1285       1343      0.783      0.395      0.473      0.324\n",
            "\n",
            "      Epoch    GPU_mem   box_loss   cls_loss   dfl_loss  Instances       Size\n",
            "     15/100      4.29G       1.06     0.8485      1.431         32        640: 100% 1609/1609 [09:14<00:00,  2.90it/s]\n",
            "                 Class     Images  Instances      Box(P          R      mAP50  mAP50-95): 100% 41/41 [00:13<00:00,  2.93it/s]\n",
            "                   all       1285       1343      0.731      0.404      0.476      0.328\n",
            "\n",
            "      Epoch    GPU_mem   box_loss   cls_loss   dfl_loss  Instances       Size\n",
            "     16/100      4.29G      1.046     0.8243      1.415         20        640: 100% 1609/1609 [09:16<00:00,  2.89it/s]\n",
            "                 Class     Images  Instances      Box(P          R      mAP50  mAP50-95): 100% 41/41 [00:13<00:00,  2.98it/s]\n",
            "                   all       1285       1343      0.773      0.392      0.473      0.332\n",
            "\n",
            "      Epoch    GPU_mem   box_loss   cls_loss   dfl_loss  Instances       Size\n",
            "     17/100      4.29G      1.043     0.8222      1.416         19        640: 100% 1609/1609 [09:12<00:00,  2.91it/s]\n",
            "                 Class     Images  Instances      Box(P          R      mAP50  mAP50-95): 100% 41/41 [00:13<00:00,  3.14it/s]\n",
            "                   all       1285       1343       0.76      0.403      0.479      0.338\n",
            "\n",
            "      Epoch    GPU_mem   box_loss   cls_loss   dfl_loss  Instances       Size\n",
            "     18/100      4.28G      1.028     0.8153      1.404         23        640: 100% 1609/1609 [09:06<00:00,  2.94it/s]\n",
            "                 Class     Images  Instances      Box(P          R      mAP50  mAP50-95): 100% 41/41 [00:12<00:00,  3.25it/s]\n",
            "                   all       1285       1343      0.752      0.417      0.492      0.343\n",
            "\n",
            "      Epoch    GPU_mem   box_loss   cls_loss   dfl_loss  Instances       Size\n",
            "     19/100       4.3G      1.017      0.792      1.395         27        640: 100% 1609/1609 [09:08<00:00,  2.93it/s]\n",
            "                 Class     Images  Instances      Box(P          R      mAP50  mAP50-95): 100% 41/41 [00:13<00:00,  3.12it/s]\n",
            "                   all       1285       1343       0.75       0.42      0.504      0.359\n",
            "\n",
            "      Epoch    GPU_mem   box_loss   cls_loss   dfl_loss  Instances       Size\n",
            "     20/100      4.29G      1.008     0.7724      1.388         27        640: 100% 1609/1609 [09:10<00:00,  2.92it/s]\n",
            "                 Class     Images  Instances      Box(P          R      mAP50  mAP50-95): 100% 41/41 [00:12<00:00,  3.16it/s]\n",
            "                   all       1285       1343      0.739      0.429        0.5      0.351\n",
            "\n",
            "      Epoch    GPU_mem   box_loss   cls_loss   dfl_loss  Instances       Size\n",
            "     21/100      4.29G      1.007      0.773      1.387         22        640: 100% 1609/1609 [09:08<00:00,  2.93it/s]\n",
            "                 Class     Images  Instances      Box(P          R      mAP50  mAP50-95): 100% 41/41 [00:12<00:00,  3.21it/s]\n",
            "                   all       1285       1343      0.751      0.425      0.498      0.355\n",
            "\n",
            "      Epoch    GPU_mem   box_loss   cls_loss   dfl_loss  Instances       Size\n",
            "     22/100      4.28G     0.9915     0.7581      1.373         22        640: 100% 1609/1609 [09:12<00:00,  2.91it/s]\n",
            "                 Class     Images  Instances      Box(P          R      mAP50  mAP50-95): 100% 41/41 [00:13<00:00,  2.95it/s]\n",
            "                   all       1285       1343      0.751      0.421      0.496      0.349\n",
            "\n",
            "      Epoch    GPU_mem   box_loss   cls_loss   dfl_loss  Instances       Size\n",
            "     23/100       4.3G     0.9861     0.7562       1.37         24        640: 100% 1609/1609 [09:07<00:00,  2.94it/s]\n",
            "                 Class     Images  Instances      Box(P          R      mAP50  mAP50-95): 100% 41/41 [00:12<00:00,  3.16it/s]\n",
            "                   all       1285       1343      0.767      0.425       0.49      0.349\n",
            "\n",
            "      Epoch    GPU_mem   box_loss   cls_loss   dfl_loss  Instances       Size\n",
            "     24/100      4.29G     0.9711     0.7381       1.36         26        640: 100% 1609/1609 [09:02<00:00,  2.96it/s]\n",
            "                 Class     Images  Instances      Box(P          R      mAP50  mAP50-95): 100% 41/41 [00:13<00:00,  3.05it/s]\n",
            "                   all       1285       1343      0.766      0.426       0.49      0.352\n",
            "\n",
            "      Epoch    GPU_mem   box_loss   cls_loss   dfl_loss  Instances       Size\n",
            "     25/100      4.29G     0.9682     0.7339      1.354         32        640: 100% 1609/1609 [09:05<00:00,  2.95it/s]\n",
            "                 Class     Images  Instances      Box(P          R      mAP50  mAP50-95): 100% 41/41 [00:13<00:00,  3.13it/s]\n",
            "                   all       1285       1343      0.785      0.422      0.501      0.357\n",
            "\n",
            "      Epoch    GPU_mem   box_loss   cls_loss   dfl_loss  Instances       Size\n",
            "     26/100      4.28G     0.9573     0.7263      1.349         39        640:  31% 491/1609 [02:45<05:16,  3.54it/s]"
          ]
        }
      ]
    }
  ]
}
